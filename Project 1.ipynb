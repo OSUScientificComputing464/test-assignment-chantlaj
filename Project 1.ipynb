{
 "cells": [
  {
   "cell_type": "code",
   "execution_count": 1,
   "metadata": {},
   "outputs": [],
   "source": [
    "import matplotlib.pyplot as plt\n",
    "import numpy as np\n",
    "import random\n",
    "from scipy import stats"
   ]
  },
  {
   "cell_type": "code",
   "execution_count": 2,
   "metadata": {},
   "outputs": [],
   "source": [
    "data = np.loadtxt(\"data.txt\")"
   ]
  },
  {
   "cell_type": "code",
   "execution_count": 3,
   "metadata": {},
   "outputs": [
    {
     "name": "stdout",
     "output_type": "stream",
     "text": [
      "[[ 3.       -4.621424]\n",
      " [ 3.25     -5.804482]\n",
      " [ 3.5      -6.70809 ]\n",
      " [ 3.75     -7.398549]\n",
      " [ 4.       -7.922563]\n",
      " [ 4.25     -8.316091]\n",
      " [ 4.5      -8.606262]\n",
      " [ 4.75     -8.813852]\n",
      " [ 5.       -8.954821]\n",
      " [ 5.25     -9.042461]\n",
      " [ 5.5      -9.08705 ]\n",
      " [ 5.75     -9.0977  ]\n",
      " [ 6.       -9.07705 ]\n",
      " [ 6.25     -9.03505 ]\n",
      " [ 6.5      -8.9743  ]\n",
      " [ 6.75     -8.8984  ]\n",
      " [ 7.       -8.8103  ]\n",
      " [ 7.25     -8.7122  ]\n",
      " [ 7.5      -8.60665 ]\n",
      " [ 7.75     -8.4949  ]\n",
      " [ 8.       -8.3785  ]\n",
      " [ 8.25     -8.2585  ]\n",
      " [ 8.5      -8.1362  ]\n",
      " [ 8.75     -8.0118  ]\n",
      " [ 9.       -7.88685 ]\n",
      " [ 9.25     -7.7615  ]\n",
      " [ 9.5      -7.63665 ]\n",
      " [ 9.75     -7.51265 ]\n",
      " [10.       -7.3898  ]]\n"
     ]
    }
   ],
   "source": [
    "print(data)"
   ]
  },
  {
   "cell_type": "code",
   "execution_count": 11,
   "metadata": {},
   "outputs": [
    {
     "data": {
      "text/plain": [
       "[<matplotlib.lines.Line2D at 0x7f1d57628198>]"
      ]
     },
     "execution_count": 11,
     "metadata": {},
     "output_type": "execute_result"
    },
    {
     "data": {
      "image/png": "[encoded data removed]",
      "text/plain": [
       "<Figure size 432x288 with 1 Axes>"
      ]
     },
     "metadata": {},
     "output_type": "display_data"
    }
   ],
   "source": [
    "plt.plot(data[:,0], data[:,1], 'ro')"
   ]
  },
  {
   "cell_type": "code",
   "execution_count": 42,
   "metadata": {},
   "outputs": [],
   "source": [
    "(a,b,c) = np.polyfit(data[:,0], data[:,1], 2)"
   ]
  },
  {
   "cell_type": "code",
   "execution_count": 35,
   "metadata": {},
   "outputs": [],
   "source": [
    "z = data[:,0]\n",
    "w = data[:,1]"
   ]
  },
  {
   "cell_type": "code",
   "execution_count": 25,
   "metadata": {},
   "outputs": [],
   "source": [
    "def f(z):\n",
    "    return a*data[:,0]**2+b*data[:,0]+c"
   ]
  },
  {
   "cell_type": "code",
   "execution_count": 29,
   "metadata": {},
   "outputs": [
    {
     "data": {
      "text/plain": [
       "[<matplotlib.lines.Line2D at 0x7f1d57130b38>,\n",
       " <matplotlib.lines.Line2D at 0x7f1d57130c50>]"
      ]
     },
     "execution_count": 29,
     "metadata": {},
     "output_type": "execute_result"
    },
    {
     "data": {
      "image/png": "[encoded data removed]",
      "text/plain": [
       "<Figure size 432x288 with 1 Axes>"
      ]
     },
     "metadata": {},
     "output_type": "display_data"
    }
   ],
   "source": [
    "plt.plot(data[:,0], data[:,1], 'ro',f(z))"
   ]
  },
  {
   "cell_type": "code",
   "execution_count": 26,
   "metadata": {},
   "outputs": [
    {
     "data": {
      "text/plain": [
       "LinregressResult(slope=0.8072065101982598, intercept=-1.5686386015338307, rvalue=0.8984467208456266, pvalue=3.74956868408948e-11, stderr=0.07592007495503438)"
      ]
     },
     "execution_count": 26,
     "metadata": {},
     "output_type": "execute_result"
    }
   ],
   "source": [
    "stats.linregress(data[:,1],f(z))"
   ]
  },
  {
   "cell_type": "code",
   "execution_count": null,
   "metadata": {},
   "outputs": [],
   "source": [
    "print(\"Ceofficient a:\", a)\n",
    "print(\"Ceofficient b:\", b)\n",
    "print(\"Ceofficient c:\", c)\n",
    "print(\"Minimum Point:\", c)"
   ]
  },
  {
   "cell_type": "code",
   "execution_count": 39,
   "metadata": {},
   "outputs": [
    {
     "name": "stdout",
     "output_type": "stream",
     "text": [
      "Limited Data[:,0] {} [3.   3.25 3.5  3.75 4.   4.25 4.5  4.75 5.   5.25]\n",
      "Limited Data[:,1] {} [-4.621424 -5.804482 -6.70809  -7.398549 -7.922563 -8.316091 -8.606262\n",
      " -8.813852 -8.954821 -9.042461]\n"
     ]
    }
   ],
   "source": [
    "s = np.resize(z, 10)\n",
    "r = np.resize(w, 10)\n",
    "print(\"Limited Data[:,0] {}\", s)\n",
    "print(\"Limited Data[:,1] {}\", r)"
   ]
  },
  {
   "cell_type": "code",
   "execution_count": 43,
   "metadata": {},
   "outputs": [],
   "source": [
    "(o,p,q) = np.polyfit(s,r, 2)"
   ]
  },
  {
   "cell_type": "code",
   "execution_count": 44,
   "metadata": {},
   "outputs": [
    {
     "name": "stdout",
     "output_type": "stream",
     "text": [
      "Ceofficient o: 1.0296409090909167\n",
      "Ceofficient p: -10.346347996969758\n",
      "Ceofficient q: 17.008933800000122\n"
     ]
    }
   ],
   "source": [
    "print(\"Ceofficient o:\", o)\n",
    "print(\"Ceofficient p:\", p)\n",
    "print(\"Ceofficient q:\", q)"
   ]
  },
  {
   "cell_type": "code",
   "execution_count": 45,
   "metadata": {},
   "outputs": [],
   "source": [
    "def f(s):\n",
    "    return o*s**2+p*s+q"
   ]
  },
  {
   "cell_type": "code",
   "execution_count": 47,
   "metadata": {},
   "outputs": [
    {
     "data": {
      "text/plain": [
       "[<matplotlib.lines.Line2D at 0x7f1d56f2e7b8>,\n",
       " <matplotlib.lines.Line2D at 0x7f1d56f2e8d0>]"
      ]
     },
     "execution_count": 47,
     "metadata": {},
     "output_type": "execute_result"
    },
    {
     "data": {
      "image/png": "[encoded data removed]",
      "text/plain": [
       "<Figure size 432x288 with 1 Axes>"
      ]
     },
     "metadata": {},
     "output_type": "display_data"
    }
   ],
   "source": [
    "plt.plot(s, r, 'ro', f(s))"
   ]
  },
  {
   "cell_type": "code",
   "execution_count": null,
   "metadata": {},
   "outputs": [],
   "source": []
  },
  {
   "cell_type": "code",
   "execution_count": null,
   "metadata": {},
   "outputs": [],
   "source": []
  }
 ],
 "metadata": {
  "kernelspec": {
   "display_name": "Python 3",
   "language": "python",
   "name": "python3"
  },
  "language_info": {
   "codemirror_mode": {
    "name": "ipython",
    "version": 3
   },
   "file_extension": ".py",
   "mimetype": "text/x-python",
   "name": "python",
   "nbconvert_exporter": "python",
   "pygments_lexer": "ipython3",
   "version": "3.6.5"
  }
 },
 "nbformat": 4,
 "nbformat_minor": 2
}
